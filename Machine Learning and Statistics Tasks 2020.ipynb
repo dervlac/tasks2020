{
 "cells": [
  {
   "cell_type": "markdown",
   "metadata": {},
   "source": [
    "# Tasks 2020\n",
    "\n",
    "***\n",
    "These are the solutions to the 2020 Task Assessments for the Machine Learning & Statistics module.\n",
    "\n",
    "The author of these tasks is Dervla Candon (G00283361@gmit.ie).\n",
    "***\n"
   ]
  },
  {
   "cell_type": "markdown",
   "metadata": {},
   "source": [
    "## Task 1\n",
    "***\n",
    "_Write a Python function called sqrt2 that calculates and prints to the screen the square root of 2 to 100 decimal places. Your code should not depend on any module from the standard library or otherwise. You should research the task first and include references and a description of your algorithm._\n",
    "***\n"
   ]
  },
  {
   "cell_type": "markdown",
   "metadata": {},
   "source": [
    "Newton's method is one of the most common for estimating the square root of a number[1]. This method is also referred to as the Babylonian method[2].\n",
    "\n",
    "The iterative equation for calculating x, square root of a, is as follows:\n",
    "\n",
    "\\\\[x_{n+1}=\\frac{1}{2}(x_{n} + \\frac{a}{x_{n}})\\\\]"
   ]
  },
  {
   "cell_type": "markdown",
   "metadata": {},
   "source": [
    "[1] Newton's Method; Wikipedia; https://en.wikipedia.org/wiki/Newton%27s_method#Square_root\n",
    "\n",
    "[2]Methods of Computing Square Root; Wikipedia; https://en.wikipedia.org/wiki/Methods_of_computing_square_roots#Babylonian_method"
   ]
  },
  {
   "cell_type": "code",
   "execution_count": 5,
   "metadata": {},
   "outputs": [],
   "source": [
    "###as per the system calculator, the correct value is 1.414213562373\n",
    "##to use as reference to confirm output is correct\n",
    "\n",
    "def sqrt2():\n",
    "    # setting an initial value as half of 2, i.e. 1\n",
    "    x0 = 1\n",
    "    # defining the second value for the iteration\n",
    "    # value is negligible, provided it allows the while loop to begin\n",
    "    xn = 2\n",
    "    # define a tolerance limit based on the square of the estimate\n",
    "    while (xn**2)-2 > 0.00000001:\n",
    "        # tmp variable used to temporarily hold the old value of xn, to reassign to x0 at the end of the loop\n",
    "        tmp = xn\n",
    "        # use Newton's method to calculate a closer approximation\n",
    "        xn = 0.5*(x0 + 2/x0)\n",
    "        x0 = tmp\n",
    "    string_xn = \"{:0.100f}\".format(xn)\n",
    "    float_xn = float(string_xn)\n",
    "    return string_xn"
   ]
  },
  {
   "cell_type": "code",
   "execution_count": 6,
   "metadata": {},
   "outputs": [
    {
     "data": {
      "text/plain": [
       "'1.4142135623746898698271934335934929549694061279296875000000000000000000000000000000000000000000000000'"
      ]
     },
     "execution_count": 6,
     "metadata": {},
     "output_type": "execute_result"
    }
   ],
   "source": [
    "sqrt2()"
   ]
  },
  {
   "cell_type": "markdown",
   "metadata": {},
   "source": [
    "***"
   ]
  },
  {
   "cell_type": "markdown",
   "metadata": {},
   "source": [
    "## Task 2\n",
    "***\n",
    "_The Chi-squared test for independence is a statistical hypothesis test like a t-test. It is used to analyse whether two categorical variables are independent. The Wikipedia article gives the table below as an example [4], stating the Chi-squared value based on it is approximately 24.6. Use scipy.stats to verify this value and calculate the associated p value. You should include a short note with references justifying your analysis in a markdown cell._\n",
    "***"
   ]
  },
  {
   "cell_type": "code",
   "execution_count": 27,
   "metadata": {},
   "outputs": [],
   "source": [
    "import scipy.stats as sp\n",
    "import numpy as np\n",
    "import pandas as pd\n",
    "\n",
    "# defining an array of the data categories\n",
    "# results will be the same whether the arrays are grouped by occupation or neighbourhood\n",
    "x = np.array([[90,30,30],[60,50,40],[104,51,45],[95,20,35]])\n",
    "# only 1 input is required in the chi squared test\n",
    "# output is 4 variables\n",
    "chi2,p,dof,expected = sp.chi2_contingency(x)"
   ]
  },
  {
   "cell_type": "code",
   "execution_count": 28,
   "metadata": {},
   "outputs": [
    {
     "data": {
      "text/plain": [
       "24.571202858582602"
      ]
     },
     "execution_count": 28,
     "metadata": {},
     "output_type": "execute_result"
    }
   ],
   "source": [
    "chi2"
   ]
  },
  {
   "cell_type": "code",
   "execution_count": 29,
   "metadata": {},
   "outputs": [
    {
     "data": {
      "text/plain": [
       "0.0004098425861096692"
      ]
     },
     "execution_count": 29,
     "metadata": {},
     "output_type": "execute_result"
    }
   ],
   "source": [
    "p"
   ]
  },
  {
   "cell_type": "code",
   "execution_count": 30,
   "metadata": {},
   "outputs": [
    {
     "data": {
      "text/plain": [
       "6"
      ]
     },
     "execution_count": 30,
     "metadata": {},
     "output_type": "execute_result"
    }
   ],
   "source": [
    "dof"
   ]
  },
  {
   "cell_type": "markdown",
   "metadata": {},
   "source": [
    "For the test data, the null hypothesis being tested is whether occupation and home neighbourhood are independent of one another.\n",
    "\n",
    "Assuming a confidence interval of 95%, a p-value of less than or equal to 0.05 implies that the probability of the observed values occurring in a population wherein the null hypothesis is true is not significant. \n",
    "\n",
    "Here, as the p-value is ~0.00041, the null hypothesis is rejected, resulting in the conclusion that a randomly selected person's neighbourhood has an impact on the likelihood that they will fall within a certain occupation category."
   ]
  },
  {
   "cell_type": "markdown",
   "metadata": {},
   "source": [
    "[1] Chi-Squared Test; Wikipedia; https://en.wikipedia.org/w/index.php?title=Chi-squared_test&oldid=983024096\n",
    "\n",
    "[2] Chi2 Contingency; Scipy; https://docs.scipy.org/doc/scipy/reference/generated/scipy.stats.chi2_contingency.html\n",
    "\n",
    "[3] p Values; statsdirect; https://www.statsdirect.com/help/basics/p_values.htm"
   ]
  },
  {
   "cell_type": "markdown",
   "metadata": {},
   "source": [
    "***"
   ]
  },
  {
   "cell_type": "code",
   "execution_count": null,
   "metadata": {},
   "outputs": [],
   "source": []
  }
 ],
 "metadata": {
  "kernelspec": {
   "display_name": "Python 3",
   "language": "python",
   "name": "python3"
  },
  "language_info": {
   "codemirror_mode": {
    "name": "ipython",
    "version": 3
   },
   "file_extension": ".py",
   "mimetype": "text/x-python",
   "name": "python",
   "nbconvert_exporter": "python",
   "pygments_lexer": "ipython3",
   "version": "3.8.3"
  }
 },
 "nbformat": 4,
 "nbformat_minor": 4
}
