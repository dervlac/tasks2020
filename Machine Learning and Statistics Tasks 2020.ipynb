{
 "cells": [
  {
   "cell_type": "markdown",
   "metadata": {},
   "source": [
    "# Tasks 2020\n",
    "\n",
    "***\n",
    "These are the solutions to the 2020 Task Assessments for the Machine Learning & Statistics module.\n",
    "\n",
    "The author of these tasks is Dervla Candon (G00283361@gmit.ie).\n",
    "***\n"
   ]
  },
  {
   "cell_type": "markdown",
   "metadata": {},
   "source": [
    "## Task 1\n",
    "***\n",
    "_Write a Python function called sqrt2 that calculates and prints to the screen the square root of 2 to 100 decimal places. Your code should not depend on any module from the standard library or otherwise. You should research the task first and include references and a description of your algorithm._\n",
    "***\n"
   ]
  },
  {
   "cell_type": "markdown",
   "metadata": {},
   "source": [
    "Newton's method is one of the most common for estimating the square root of a number[1]. This method is also referred to as the Babylonian method[2].\n",
    "\n",
    "The iterative equation for calculating x, square root of a, is as follows:\n",
    "\n",
    "\\\\[x_{n+1}=\\frac{1}{2}(x_{n} + \\frac{a}{x_{n}})\\\\]"
   ]
  },
  {
   "cell_type": "markdown",
   "metadata": {},
   "source": [
    "[1] Newton's Method; Wikipedia; https://en.wikipedia.org/wiki/Newton%27s_method#Square_root\n",
    "\n",
    "[2]Methods of Computing Square Root; Wikipedia; https://en.wikipedia.org/wiki/Methods_of_computing_square_roots#Babylonian_method"
   ]
  },
  {
   "cell_type": "code",
   "execution_count": 8,
   "metadata": {},
   "outputs": [],
   "source": [
    "###as per the system calculator, the correct value is 1.414213562373\n",
    "##to use as reference to confirm output is correct\n",
    "\n",
    "def sqrt2():\n",
    "    # setting an initial value as half of 2, i.e. 1\n",
    "    x0 = 1\n",
    "    # defining the second value for the iteration\n",
    "    # value is negligible, provided it allows the while loop to begin\n",
    "    xn = 2\n",
    "    # define a tolerance limit based on the square of the estimate\n",
    "    while (xn**2)-2 > 0.000001:\n",
    "        # tmp variable used to temporarily hold the old value of xn, to reassign to x0 at the end of the loop\n",
    "        tmp = xn\n",
    "        # use Newton's method to calculate a closer approximation\n",
    "        xn = 0.5*(x0 + 2/x0)\n",
    "        x0 = tmp\n",
    "    return xn"
   ]
  },
  {
   "cell_type": "code",
   "execution_count": 6,
   "metadata": {},
   "outputs": [
    {
     "data": {
      "text/plain": [
       "1.4142135623746899"
      ]
     },
     "execution_count": 6,
     "metadata": {},
     "output_type": "execute_result"
    }
   ],
   "source": [
    "sqrt2()"
   ]
  },
  {
   "cell_type": "markdown",
   "metadata": {},
   "source": [
    "***"
   ]
  },
  {
   "cell_type": "code",
   "execution_count": null,
   "metadata": {},
   "outputs": [],
   "source": []
  }
 ],
 "metadata": {
  "kernelspec": {
   "display_name": "Python 3",
   "language": "python",
   "name": "python3"
  },
  "language_info": {
   "codemirror_mode": {
    "name": "ipython",
    "version": 3
   },
   "file_extension": ".py",
   "mimetype": "text/x-python",
   "name": "python",
   "nbconvert_exporter": "python",
   "pygments_lexer": "ipython3",
   "version": "3.8.3"
  }
 },
 "nbformat": 4,
 "nbformat_minor": 4
}
